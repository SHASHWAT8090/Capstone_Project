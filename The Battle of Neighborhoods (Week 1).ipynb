{
 "cells": [
  {
   "cell_type": "markdown",
   "metadata": {},
   "source": [
    "<h1>The Battle of Neighborhoods (Week 1)</h1>"
   ]
  },
  {
   "cell_type": "markdown",
   "metadata": {},
   "source": [
    "<h2> Introduction/Business Problem</h2>"
   ]
  },
  {
   "cell_type": "markdown",
   "metadata": {},
   "source": [
    "<h3>Problem Background</h3>"
   ]
  },
  {
   "cell_type": "markdown",
   "metadata": {},
   "source": [
    "New York City, the most populated city in New York and the United States with a population of 17,990,455, lies at the end of the Hudson River on the southernmost tip of the state New York.It is a global hub of business and commerce. The city is a major center for banking and finance, retailing, world trade, transportation, tourism, real estate, new media, traditional media, advertising, legal services, accountancy, insurance, theater, fashion, and the arts in the United States."
   ]
  },
  {
   "cell_type": "markdown",
   "metadata": {},
   "source": [
    "The cost of living and the cost of opening a new buisness is always a key initial factor for any orgaisation or entrepreneur.\n",
    "Thus if any new business venture or expansion is taking place, it needs to be analysed very carefully. The analysis should provide the key factors that will drive the environment and health of any business."
   ]
  },
  {
   "cell_type": "markdown",
   "metadata": {},
   "source": [
    "<h3>Problem Description</h3>"
   ]
  },
  {
   "cell_type": "markdown",
   "metadata": {},
   "source": [
    "A Food Joint is one among those businessess which can grow in no time provided that the area market is first analysed.A food Joint may include a restaurant,pub,cafe,parlours,etc.Considering a Businessman Mr.M wants to open an ITALIAN restaurant and he approaches a data scientist to analalyse the factors that will play a key role in the development as well as growth.Since New York is already known for its excellent cuisines and Italian food culture, the following factors are very important to be analysed:"
   ]
  },
  {
   "cell_type": "markdown",
   "metadata": {},
   "source": [
    "1.The best possible location for the restarant."
   ]
  },
  {
   "cell_type": "markdown",
   "metadata": {},
   "source": [
    "2.Which neighborhoods and boroughs of New York City have the most as well as the best Italian restaurants"
   ]
  },
  {
   "cell_type": "markdown",
   "metadata": {},
   "source": [
    "3.Where would one go in New York City to have the best Italian food?"
   ]
  },
  {
   "cell_type": "markdown",
   "metadata": {},
   "source": [
    "<h3>Target Audience:</h3>"
   ]
  },
  {
   "cell_type": "markdown",
   "metadata": {},
   "source": [
    "To analyse the best possible location and other factors mentioned above, Mr. M had approached me to use data science and analye the market factors and help him in setting up a restaurant which can grow easily.\n",
    "The target audience of this data science project can be any person who wants open a new Italian restaurant in the New York City."
   ]
  }
 ],
 "metadata": {
  "kernelspec": {
   "display_name": "Python 3",
   "language": "python",
   "name": "python3"
  },
  "language_info": {
   "codemirror_mode": {
    "name": "ipython",
    "version": 3
   },
   "file_extension": ".py",
   "mimetype": "text/x-python",
   "name": "python",
   "nbconvert_exporter": "python",
   "pygments_lexer": "ipython3",
   "version": "3.6.1"
  }
 },
 "nbformat": 4,
 "nbformat_minor": 2
}
